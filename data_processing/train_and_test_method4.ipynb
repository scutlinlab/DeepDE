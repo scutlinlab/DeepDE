{
 "cells": [
  {
   "cell_type": "code",
   "execution_count": 2,
   "metadata": {},
   "outputs": [
    {
     "name": "stdout",
     "output_type": "stream",
     "text": [
      "train:  45715 test:  6000\n"
     ]
    }
   ],
   "source": [
    "import pandas as pd\n",
    "\n",
    "sk_all_path = \"/share/jake/Low_N_data/csv/sk_data_set_distance.csv\"\n",
    "sk_all = pd.read_csv(sk_all_path)\n",
    "sk_all.drop(sk_all.columns[[0]], axis=1,inplace=True)\n",
    "test_set = sk_all[(sk_all[\"distance\"] == 3)].sample(6000)\n",
    "train_set = pd.concat([sk_all, test_set])\n",
    "train_set.drop_duplicates(keep = False, inplace=True)\n",
    "print(\"train: \", len(list(train_set[\"name\"])), \"test: \", len(list(test_set[\"name\"])))\n",
    "# test_datas = pd.read_csv('/share/jake/Low_N_data/test_csv/sk_test_set.csv')\n",
    "# test_seqs = test_datas['seq']\n",
    "# print(len(train_seqs), len(test_seqs))\n",
    "# print(list(test_seqs)[0:10])\n",
    "# for seq in list(train_seqs):\n",
    "#     if seq in list(test_seqs):\n",
    "#         print(1)"
   ]
  },
  {
   "cell_type": "code",
   "execution_count": 5,
   "metadata": {},
   "outputs": [],
   "source": [
    "import pandas as pd\n",
    "\n",
    "sk_all_path = \"/share/jake/Low_N_data/test_csv/sk_test_set_distance.csv\"\n",
    "sk_all = pd.read_csv(sk_all_path)\n",
    "sk_all.drop(sk_all.columns[[0]], axis=1,inplace=True)\n",
    "test_set = sk_all[(sk_all[\"quantitative_function\"] >= 0.6)]\n",
    "# print(test_set.head())\n",
    "# print(\"all: \", len(list(sk_all[\"name\"])), \"test: \", len(list(test_set[\"name\"])))\n",
    "test_set.to_csv(\"/share/jake/Low_N_data/test_csv/sk_test_set_bright_distance.csv\")"
   ]
  },
  {
   "cell_type": "code",
   "execution_count": 11,
   "metadata": {},
   "outputs": [
    {
     "name": "stdout",
     "output_type": "stream",
     "text": [
      "PtsRep\n",
      "PtsRep step1 recall 0.6:  0.8363260869565219 step1 recall 1.0:  0.25144392209536603 step2 recall 1.0:  0.23156480859637343\n"
     ]
    }
   ],
   "source": [
    "import pandas as pd\n",
    "\n",
    "# seed = 0\n",
    "step1_recall_bright_list = []\n",
    "step1_recall_vary_bright_list = []\n",
    "step2_recall_vary_bright_list = []\n",
    "step1_recall_bright = 0\n",
    "step1_recall_vary_bright = 0\n",
    "step2_recall_vary_bright = 0\n",
    "step1_vary_bright = 0\n",
    "step2_bright_degree = 0.6\n",
    "model_name = \"PtsRep\"\n",
    "sampling_method = \"random_1-2\"\n",
    "training_objectives = \"gfp_SK_test_3\"\n",
    "for seed in range(5):\n",
    "    \n",
    "    if step1_vary_bright:\n",
    "        sk_test_result_split1 = pd.read_csv(f\"/share/jake/hot_spot/data/test/method4/step1/result_csv/{model_name}_1-2muta_train_3muta_predict_1000_step1_vary_bright_{seed}.csv\")\n",
    "    else:\n",
    "        sk_test_result_split1 = pd.read_csv(f\"/share/jake/hot_spot/data/test/method4/step1/result_csv/{model_name}_1-2muta_train_3muta_predict_1000_step1_bright_{seed}.csv\")\n",
    "    sk_test_result_split1.drop(sk_test_result_split1.columns[[0]], axis=1,inplace=True)\n",
    "    sk_test_result_split1.sort_values(by = \"predict_qfunc\", ascending=False, inplace = True)\n",
    "    # print(len(list(sk_test_result_split1[\"quantitative_function\"])))\n",
    "    # print(sk_test_result_split1.head())\n",
    "    datas_2 = sk_test_result_split1[sk_test_result_split1[\"quantitative_function\"] >= step2_bright_degree]\n",
    "    test2_num = len(list(datas_2[\"quantitative_function\"]))\n",
    "    # print(test2_num)\n",
    "    test_2 = sk_test_result_split1[:test2_num]\n",
    "    if step1_vary_bright:\n",
    "        test_2.to_csv(f\"/share/jake/hot_spot/data/test/method4/step1/test_set_for_step2/{model_name}_calssfy_degree{step2_bright_degree}_test_step2_vary_bright_{seed}.csv\")\n",
    "    else:\n",
    "        test_2.to_csv(f\"/share/jake/hot_spot/data/test/method4/step1/test_set_for_step2/{model_name}_calssfy_degree{step2_bright_degree}_test_step2_bright_{seed}.csv\")\n",
    "    vary_bright_df = sk_test_result_split1[sk_test_result_split1[\"quantitative_function\"] >= 1]\n",
    "    step2_test_num = len(list(vary_bright_df[\"quantitative_function\"]))\n",
    "    test_2_step2 = sk_test_result_split1[:step2_test_num]\n",
    "    test_2_bright = test_2[test_2[\"quantitative_function\"] > 0.6]\n",
    "    test_2_vary_bright = test_2_step2[test_2_step2[\"quantitative_function\"] > 1]\n",
    "    bright_num = len(list(test_2_bright[\"quantitative_function\"]))\n",
    "    vary_bright_num = len(list(test_2_vary_bright[\"quantitative_function\"]))\n",
    "    # print(step2_test_num ,vary_bright_num)\n",
    "    # print(bright_num, bright_num / test2_num)\n",
    "    step1_recall_bright_list.append(bright_num / test2_num)\n",
    "    # print(vary_bright_num, vary_bright_num / step2_test_num)\n",
    "    step1_recall_vary_bright_list.append(vary_bright_num / step2_test_num)\n",
    "    if step1_vary_bright:\n",
    "        sk_test_result_split2 = pd.read_csv(f\"/share/jake/hot_spot/data/test/method4/step2/result_csv/{model_name}_calssfy_degree{step2_bright_degree}_result_step2_vary_bright_{seed}.csv\")\n",
    "    else:\n",
    "        sk_test_result_split2 = pd.read_csv(f\"/share/jake/hot_spot/data/test/method4/step2/result_csv/{model_name}_calssfy_degree{step2_bright_degree}_result_step2_bright_{seed}.csv\")\n",
    "    sk_test_result_split2.drop(sk_test_result_split2.columns[[0]], axis=1,inplace=True)\n",
    "    sk_test_result_split2.sort_values(by = \"predict_qfunc_step2\", ascending=False, inplace = True)\n",
    "    test_step2_step2 = sk_test_result_split2[:step2_test_num]\n",
    "    step2_vary_bright = test_step2_step2[test_step2_step2[\"quantitative_function\"] > 1]\n",
    "    step2_vary_bright_num = len(list(step2_vary_bright[\"quantitative_function\"]))\n",
    "    # print(step2_vary_bright_num, step2_vary_bright_num/step2_test_num)\n",
    "    step2_recall_vary_bright_list.append(step2_vary_bright_num/step2_test_num)\n",
    "for i in range(len(step2_recall_vary_bright_list)):\n",
    "    step1_recall_bright += step1_recall_bright_list[i]\n",
    "    step1_recall_vary_bright += step1_recall_vary_bright_list[i]\n",
    "    step2_recall_vary_bright += step2_recall_vary_bright_list[i]\n",
    "print(model_name)\n",
    "print(model_name, \"step1 recall 0.6: \", step1_recall_bright / len(step2_recall_vary_bright_list), \"step1 recall 1.0: \", step1_recall_vary_bright / len(step2_recall_vary_bright_list), \"step2 recall 1.0: \", step2_recall_vary_bright / len(step2_recall_vary_bright_list))"
   ]
  },
  {
   "cell_type": "code",
   "execution_count": null,
   "metadata": {},
   "outputs": [],
   "source": [
    "vary_bright_df = sk_test_result_split1[sk_test_result_split1[\"quantitative_function\"] >= 1]\n",
    "step2_test_num = len(list(vary_bright_df[\"quantitative_function\"]))\n",
    "test_2_step2 = sk_test_result_split1[:step2_test_num]\n",
    "test_2_bright = test_2[test_2[\"quantitative_function\"] > 0.6]\n",
    "test_2_vary_bright = test_2_step2[test_2_step2[\"quantitative_function\"] > 1]\n",
    "bright_num = len(list(test_2_bright[\"quantitative_function\"]))\n",
    "vary_bright_num = len(list(test_2_vary_bright[\"quantitative_function\"]))\n",
    "print(step2_test_num ,vary_bright_num)\n",
    "print(bright_num, bright_num / test2_num)\n",
    "print(vary_bright_num, vary_bright_num / step2_test_num)\n",
    "sk_test_result_split2 = pd.read_csv(f\"/share/jake/hot_spot/data/test/method3/step_1/result_csv/{model_name}_all_gfp_SK_test_3_step2_bright_continue_{seed}.csv\")\n",
    "sk_test_result_split2.drop(sk_test_result_split2.columns[[0]], axis=1,inplace=True)\n",
    "sk_test_result_split2.sort_values(by = \"predict_qfunc_step2\", ascending=False, inplace = True)\n",
    "test_step2_step2 = sk_test_result_split2[:step2_test_num]\n",
    "step2_vary_bright = test_step2_step2[test_step2_step2[\"quantitative_function\"] > 1]\n",
    "step2_vary_bright_num = len(list(step2_vary_bright[\"quantitative_function\"]))\n",
    "print(step2_vary_bright_num, step2_vary_bright_num/step2_test_num)"
   ]
  },
  {
   "cell_type": "code",
   "execution_count": 21,
   "metadata": {},
   "outputs": [
    {
     "name": "stdout",
     "output_type": "stream",
     "text": [
      "407 0.2733378106111484\n"
     ]
    }
   ],
   "source": [
    "sk_test_result_split2 = pd.read_csv(f\"/share/jake/hot_spot/data/test/method3/step_1/result_csv/{model_name}_all_gfp_SK_test_3_step2_bright_continue_{seed}.csv\")\n",
    "sk_test_result_split2.drop(sk_test_result_split2.columns[[0]], axis=1,inplace=True)\n",
    "sk_test_result_split2.sort_values(by = \"predict_qfunc_step2\", ascending=False, inplace = True)\n",
    "test_step2_step2 = sk_test_result_split2[:step2_test_num]\n",
    "step2_vary_bright = test_step2_step2[test_step2_step2[\"quantitative_function\"] > 1]\n",
    "step2_vary_bright_num = len(list(step2_vary_bright[\"quantitative_function\"]))\n",
    "print(step2_vary_bright_num, step2_vary_bright_num/step2_test_num)"
   ]
  }
 ],
 "metadata": {
  "interpreter": {
   "hash": "40d3a090f54c6569ab1632332b64b2c03c39dcf918b08424e98f38b5ae0af88f"
  },
  "kernelspec": {
   "display_name": "Python 3.6.8 64-bit ('base': conda)",
   "language": "python",
   "name": "python3"
  },
  "language_info": {
   "codemirror_mode": {
    "name": "ipython",
    "version": 3
   },
   "file_extension": ".py",
   "mimetype": "text/x-python",
   "name": "python",
   "nbconvert_exporter": "python",
   "pygments_lexer": "ipython3",
   "version": "3.6.8"
  },
  "orig_nbformat": 4
 },
 "nbformat": 4,
 "nbformat_minor": 2
}
