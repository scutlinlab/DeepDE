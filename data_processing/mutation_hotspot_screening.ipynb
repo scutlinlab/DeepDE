{
 "cells": [
  {
   "cell_type": "code",
   "execution_count": 8,
   "metadata": {},
   "outputs": [
    {
     "name": "stderr",
     "output_type": "stream",
     "text": [
      "100%|██████████| 1110/1110 [03:27<00:00,  2.69it/s]\n"
     ]
    },
    {
     "name": "stdout",
     "output_type": "stream",
     "text": [
      "          name                                               seqs  \\\n",
      "0   96 104 137  MSKGEELFTGVVPILVELDGDVNGHKFSVSGEGEGDATYGKLTLKF...   \n",
      "1   98 107 137  MSKGEELFTGVVPILVELDGDVNGHKFSVSGEGEGDATYGKLTLKF...   \n",
      "2  101 107 137  MSKGEELFTGVVPILVELDGDVNGHKFSVSGEGEGDATYGKLTLKF...   \n",
      "3   90 137 169  MSKGEELFTGVVPILVELDGDVNGHKFSVSGEGEGDATYGKLTLKF...   \n",
      "4   86 101 137  MSKGEELFTGVVPILVELDGDVNGHKFSVSGEGEGDATYGKLTLKF...   \n",
      "\n",
      "   eUniRep_predict_qfunce  \n",
      "0                1.664046  \n",
      "1                1.552862  \n",
      "2                1.538678  \n",
      "3                1.524876  \n",
      "4                1.510563  \n"
     ]
    },
    {
     "ename": "FileNotFoundError",
     "evalue": "[Errno 2] No such file or directory: '/share/jake/github/low_n_output/method_1/all/lin/eUniRep/top_1000_3_mutation_max_result_new.csv/top_1000_3_mutation_max_result_old.csv'",
     "output_type": "error",
     "traceback": [
      "\u001b[0;31m---------------------------------------------------------------------------\u001b[0m",
      "\u001b[0;31mFileNotFoundError\u001b[0m                         Traceback (most recent call last)",
      "\u001b[0;32m<ipython-input-8-d22f3c22187a>\u001b[0m in \u001b[0;36m<module>\u001b[0;34m\u001b[0m\n\u001b[1;32m     24\u001b[0m     \u001b[0;31m# output_path = \"/share/jake/github/low_n_output/method_1/all/lin/temp\"\u001b[0m\u001b[0;34m\u001b[0m\u001b[0;34m\u001b[0m\u001b[0;34m\u001b[0m\u001b[0m\n\u001b[1;32m     25\u001b[0m     \u001b[0mdata_max\u001b[0m \u001b[0;34m=\u001b[0m \u001b[0mdataframe\u001b[0m\u001b[0;34m[\u001b[0m\u001b[0;34m:\u001b[0m\u001b[0;36m1000\u001b[0m\u001b[0;34m]\u001b[0m\u001b[0;34m\u001b[0m\u001b[0;34m\u001b[0m\u001b[0m\n\u001b[0;32m---> 26\u001b[0;31m     \u001b[0mdata_max\u001b[0m\u001b[0;34m.\u001b[0m\u001b[0mto_csv\u001b[0m\u001b[0;34m(\u001b[0m\u001b[0;34mf\"{output_path}/top_1000_3_mutation_{method}_result_old.csv\"\u001b[0m\u001b[0;34m)\u001b[0m\u001b[0;34m\u001b[0m\u001b[0;34m\u001b[0m\u001b[0m\n\u001b[0m",
      "\u001b[0;32m/opt/anaconda3/lib/python3.6/site-packages/pandas/core/generic.py\u001b[0m in \u001b[0;36mto_csv\u001b[0;34m(self, path_or_buf, sep, na_rep, float_format, columns, header, index, index_label, mode, encoding, compression, quoting, quotechar, line_terminator, chunksize, tupleize_cols, date_format, doublequote, escapechar, decimal)\u001b[0m\n\u001b[1;32m   3018\u001b[0m                                  \u001b[0mdoublequote\u001b[0m\u001b[0;34m=\u001b[0m\u001b[0mdoublequote\u001b[0m\u001b[0;34m,\u001b[0m\u001b[0;34m\u001b[0m\u001b[0;34m\u001b[0m\u001b[0m\n\u001b[1;32m   3019\u001b[0m                                  escapechar=escapechar, decimal=decimal)\n\u001b[0;32m-> 3020\u001b[0;31m         \u001b[0mformatter\u001b[0m\u001b[0;34m.\u001b[0m\u001b[0msave\u001b[0m\u001b[0;34m(\u001b[0m\u001b[0;34m)\u001b[0m\u001b[0;34m\u001b[0m\u001b[0;34m\u001b[0m\u001b[0m\n\u001b[0m\u001b[1;32m   3021\u001b[0m \u001b[0;34m\u001b[0m\u001b[0m\n\u001b[1;32m   3022\u001b[0m         \u001b[0;32mif\u001b[0m \u001b[0mpath_or_buf\u001b[0m \u001b[0;32mis\u001b[0m \u001b[0;32mNone\u001b[0m\u001b[0;34m:\u001b[0m\u001b[0;34m\u001b[0m\u001b[0;34m\u001b[0m\u001b[0m\n",
      "\u001b[0;32m/opt/anaconda3/lib/python3.6/site-packages/pandas/io/formats/csvs.py\u001b[0m in \u001b[0;36msave\u001b[0;34m(self)\u001b[0m\n\u001b[1;32m    155\u001b[0m             f, handles = _get_handle(self.path_or_buf, self.mode,\n\u001b[1;32m    156\u001b[0m                                      \u001b[0mencoding\u001b[0m\u001b[0;34m=\u001b[0m\u001b[0mself\u001b[0m\u001b[0;34m.\u001b[0m\u001b[0mencoding\u001b[0m\u001b[0;34m,\u001b[0m\u001b[0;34m\u001b[0m\u001b[0;34m\u001b[0m\u001b[0m\n\u001b[0;32m--> 157\u001b[0;31m                                      compression=self.compression)\n\u001b[0m\u001b[1;32m    158\u001b[0m             \u001b[0mclose\u001b[0m \u001b[0;34m=\u001b[0m \u001b[0;32mTrue\u001b[0m\u001b[0;34m\u001b[0m\u001b[0;34m\u001b[0m\u001b[0m\n\u001b[1;32m    159\u001b[0m \u001b[0;34m\u001b[0m\u001b[0m\n",
      "\u001b[0;32m/opt/anaconda3/lib/python3.6/site-packages/pandas/io/common.py\u001b[0m in \u001b[0;36m_get_handle\u001b[0;34m(path_or_buf, mode, encoding, compression, memory_map, is_text)\u001b[0m\n\u001b[1;32m    422\u001b[0m         \u001b[0;32melif\u001b[0m \u001b[0mencoding\u001b[0m\u001b[0;34m:\u001b[0m\u001b[0;34m\u001b[0m\u001b[0;34m\u001b[0m\u001b[0m\n\u001b[1;32m    423\u001b[0m             \u001b[0;31m# Python 3 and encoding\u001b[0m\u001b[0;34m\u001b[0m\u001b[0;34m\u001b[0m\u001b[0;34m\u001b[0m\u001b[0m\n\u001b[0;32m--> 424\u001b[0;31m             \u001b[0mf\u001b[0m \u001b[0;34m=\u001b[0m \u001b[0mopen\u001b[0m\u001b[0;34m(\u001b[0m\u001b[0mpath_or_buf\u001b[0m\u001b[0;34m,\u001b[0m \u001b[0mmode\u001b[0m\u001b[0;34m,\u001b[0m \u001b[0mencoding\u001b[0m\u001b[0;34m=\u001b[0m\u001b[0mencoding\u001b[0m\u001b[0;34m,\u001b[0m \u001b[0mnewline\u001b[0m\u001b[0;34m=\u001b[0m\u001b[0;34m\"\"\u001b[0m\u001b[0;34m)\u001b[0m\u001b[0;34m\u001b[0m\u001b[0;34m\u001b[0m\u001b[0m\n\u001b[0m\u001b[1;32m    425\u001b[0m         \u001b[0;32melif\u001b[0m \u001b[0mis_text\u001b[0m\u001b[0;34m:\u001b[0m\u001b[0;34m\u001b[0m\u001b[0;34m\u001b[0m\u001b[0m\n\u001b[1;32m    426\u001b[0m             \u001b[0;31m# Python 3 and no explicit encoding\u001b[0m\u001b[0;34m\u001b[0m\u001b[0;34m\u001b[0m\u001b[0;34m\u001b[0m\u001b[0m\n",
      "\u001b[0;31mFileNotFoundError\u001b[0m: [Errno 2] No such file or directory: '/share/jake/github/low_n_output/method_1/all/lin/eUniRep/top_1000_3_mutation_max_result_new.csv/top_1000_3_mutation_max_result_old.csv'"
     ]
    }
   ],
   "source": [
    "import os\n",
    "import pandas as pd\n",
    "from tqdm import tqdm\n",
    "\n",
    "seed = 0\n",
    "method = \"max\"\n",
    "train_set_num = \"1000_fixed\"\n",
    "save_top_1000_result = 1\n",
    "input_path = f\"/share/jake/github/low_n_output/method_1/predict_qfunc/lin/eUniRep\"\n",
    "# input_path = f\"/share/jake/github/low_n_output/method_1/predict_qfunc/lin/temp/old\"\n",
    "file_list = os.listdir(input_path)\n",
    "dataframe = pd.DataFrame()\n",
    "for file_name in tqdm(file_list):\n",
    "    data_1 = pd.read_csv(f\"{input_path}/{file_name}\")\n",
    "    data_1.drop(data_1.columns[[0]], axis=1,inplace=True)\n",
    "    dataframe = pd.concat([dataframe, data_1])\n",
    "# print(dataframe.head())\n",
    "dataframe.sort_values(by = \"eUniRep_predict_qfunce\", ascending=False, inplace = True)\n",
    "# dataframe.sort_values(by = \"predict_qfunce\", ascending=False, inplace = True)\n",
    "dataframe = dataframe.reset_index(drop = True)\n",
    "print(dataframe.head())\n",
    "if save_top_1000_result:\n",
    "    output_path = f\"/share/jake/github/low_n_output/method_1/all/lin/eUniRep/top_1000_3_mutation_{method}_result_new.csv\"\n",
    "    # output_path = \"/share/jake/github/low_n_output/method_1/all/lin/temp\"\n",
    "    data_max = dataframe[:1000]\n",
    "    data_max.to_csv(output_path)\n",
    "    # data_max.to_csv(f\"{output_path}/top_1000_3_mutation_{method}_result_old.csv\")"
   ]
  },
  {
   "cell_type": "code",
   "execution_count": 2,
   "metadata": {},
   "outputs": [
    {
     "name": "stdout",
     "output_type": "stream",
     "text": [
      "5\n",
      "['8 33 197', '8 33 160', '8 33 141', '8 33 157', '8 33 117']\n"
     ]
    }
   ],
   "source": [
    "def list_intersection(list_1, list_2):\n",
    "    if list_1 == [] and list_2 == []:\n",
    "        return []\n",
    "    elif list_1 == [] and len(list_2) != 0:\n",
    "        return list_2\n",
    "    elif list_2 == [] and len(list_1) != 0:\n",
    "        return list_1\n",
    "    else:\n",
    "        return list(set(list_1) & set(list_2))\n",
    "\n",
    "df_top1000_list = []\n",
    "top1000_name_list = []\n",
    "top_1000_filenames = os.listdir(\"/share/jake/hot_spot/data/result/method_1/top_1000_result/mutation_3_hotspot_result_1000\")\n",
    "for file_name in top_1000_filenames:\n",
    "    top_1000_df = pd.read_csv(f\"/share/jake/hot_spot/data/result/method_1/top_1000_result/mutation_3_hotspot_result_1000/{file_name}\")\n",
    "    df_top1000_list.append(top_1000_df)\n",
    "    top1000_name_list.append(list(top_1000_df[\"name\"]))\n",
    "top_names = []\n",
    "for name_list in top1000_name_list:\n",
    "    top_names = list_intersection(top_names, name_list)\n",
    "\n",
    "print(len(top_names))\n",
    "print(top_names)"
   ]
  },
  {
   "cell_type": "code",
   "execution_count": 7,
   "metadata": {},
   "outputs": [
    {
     "name": "stderr",
     "output_type": "stream",
     "text": [
      "100%|██████████| 96/96 [00:00<00:00, 162.16it/s]\n",
      "100%|██████████| 96/96 [02:14<00:00,  1.06s/it]"
     ]
    },
    {
     "name": "stdout",
     "output_type": "stream",
     "text": [
      "[1327103, 322928, 841508, 365501, 1382990, 109844, 301733, 681602, 272576, 568284, 50448, 540885, 379451, 356992, 162569, 713627, 753594, 190788, 736549, 118680, 687884, 165997, 827504, 864747, 475419, 86776, 525419, 510402, 664627, 285850, 591921, 574525, 342391, 602977, 714043, 318179, 651801, 706643, 156355, 666888, 638926, 1491610, 216128, 75892, 687121, 217178, 790453, 160983, 731729, 483550, 926560, 192880, 413041, 96870, 114106, 568296, 109798, 44753, 977410, 625257, 207196, 188895, 1438388, 152421, 416846, 267776, 375069, 860218, 390061, 385860, 9015, 266501, 1126975, 107951, 371446, 901703, 25738, 923429, 835240, 801635, 489087, 95578, 51910, 306536, 337664, 8434, 211942, 1037842, 444193, 94522, 312983, 179965, 126664, 204044, 540586, 346405]\n",
      "[0.598161663292221, 0.1455524926125782, 0.3792906993305797, 0.16474130952531194, 0.623351464593561, 0.04950969875184573, 0.13599932571183376, 0.3072166862883321, 0.12285746738085923, 0.2561411606049843, 0.022738295060568747, 0.2437916810148217, 0.17102895653004818, 0.16090607021611478, 0.07327430006544562, 0.32165123075619434, 0.33966545210660964, 0.0859933761103669, 0.33198280384885126, 0.053492325915562536, 0.31004815571369077, 0.07481939353729047, 0.37297871304711544, 0.38976515300391773, 0.21428436210356272, 0.0391123194611464, 0.23682073129616577, 0.23005215817285937, 0.2995655889474434, 0.12884042267411147, 0.2667950037770955, 0.25895415020760504, 0.15432499968449084, 0.27177824573296383, 0.3218387333478768, 0.14341198826666474, 0.2937845595221569, 0.31850335070737157, 0.07047348010218892, 0.30058468356233287, 0.2879814444550616, 0.6723094730275719, 0.09741480801717813, 0.03420660261530057, 0.3097042507198116, 0.09788807177022278, 0.35627881274801276, 0.07255944643465626, 0.3298102978586843, 0.21794922646166384, 0.4176259647819651, 0.08693629779738542, 0.1861688893536389, 0.0436619616737491, 0.05143069886182321, 0.25614656933359053, 0.04948896529218853, 0.02017140260953126, 0.4405454522508424, 0.2818204518451878, 0.09338891102461151, 0.08514014917273496, 0.6483208602041975, 0.0687003185741149, 0.187883907049196, 0.12069397593836934, 0.16905386913400847, 0.38772380868245176, 0.17581117407271854, 0.17391766833315606, 0.004063307365426325, 0.12011929852395796, 0.5079584934166759, 0.04865647181421378, 0.16742088382231246, 0.4064222342015545, 0.011600821405584332, 0.4162147373431243, 0.37646554008859495, 0.3613188463542465, 0.22044490398605268, 0.04307962189381223, 0.023397258495760458, 0.1381641693364752, 0.15219441134102213, 0.003801434755408278, 0.0955280631883734, 0.4677838095117901, 0.2002099488153983, 0.04260365377646446, 0.14107000878016943, 0.08111515363493606, 0.05709093334823739, 0.09196821831070982, 0.24365691352704996, 0.156134219403273]\n",
      "[0.6346696615219116, 0.9005123376846313, 0.7663720846176147, 0.887808084487915, 0.616803765296936, 0.9863855838775636, 0.9071312546730042, 0.8056447505950928, 0.9166675806045532, 0.8337258696556091, 1.032969951629639, 0.8406597375869751, 0.8838110566139221, 0.8902839422225952, 0.959141492843628, 0.7977796792984009, 0.7879570126533508, 0.9468704462051392, 0.7921311259269714, 0.9812278151512146, 0.8040888905525208, 0.957563579082489, 0.7698032855987549, 0.7606818675994873, 0.8575959801673889, 1.0011903047561646, 0.8446108102798462, 0.8484433889389038, 0.809840977191925, 0.9122737050056458, 0.827808141708374, 0.8321754336357117, 0.8946066498756409, 0.8250530362129211, 0.7976776957511902, 0.9019925594329834, 0.8130095601081848, 0.7995136976242065, 0.9619951844215392, 0.809287428855896, 0.8162234425544739, 0.5796141028404236, 0.9367417693138124, 1.0092768669128418, 0.8042784333229065, 0.936340034008026, 0.7789462208747864, 0.9598566293716432, 0.793331503868103, 0.85542893409729, 0.7451596856117249, 0.9460119605064392, 0.8743520379066467, 0.994449019432068, 0.9838888049125672, 0.8337222337722778, 0.9864143133163452, 1.039577841758728, 0.7321777939796448, 0.8195725083351135, 0.940226674079895, 0.9476471543312072, 0.5982951521873474, 0.9638670086860656, 0.8733131885528564, 0.9182578921318054, 0.8850498795509338, 0.7617920041084291, 0.8807896971702576, 0.8819933533668518, 1.1175791025161743, 0.9186823964118958, 0.6929379105567932, 0.9875166416168212, 0.8861032724380493, 0.7513834238052368, 1.0679600238800049, 0.7459384202957153, 0.7679157257080078, 0.7761856913566589, 0.8539805412292479, 0.9952822923660278, 1.0313140153884888, 0.905634105205536, 0.8960190415382385, 1.1202960014343262, 0.9383346438407898, 0.7166595458984375, 0.8658605217933655, 0.9959784746170044, 0.903616189956665, 0.9514623880386353, 0.9768216609954834, 0.9414861798286438, 0.8407297730445862, 0.8934001922607422]\n"
     ]
    },
    {
     "name": "stderr",
     "output_type": "stream",
     "text": [
      "\n"
     ]
    }
   ],
   "source": [
    "target = \"top\"\n",
    "top_96_df = pd.read_csv(f\"/share/jake/hot_spot/data/test/method2/random_1-2_1000/hotspot_method2_3mutation_real_{target}96_{seed}.csv\")\n",
    "top_96_df.drop(top_96_df.columns[[0]], axis=1,inplace=True)\n",
    "sk_3_df = pd.read_csv(\"/share/jake/hot_spot/data/csv/sk_3.csv\")\n",
    "all_num = len(list(dataframe[\"name\"]))\n",
    "top_96_names = list(top_96_df[\"name\"])\n",
    "top_96_mutation_df = pd.DataFrame()\n",
    "for name in tqdm(top_96_names):\n",
    "    name_df = sk_3_df[(sk_3_df[\"name\"] == name)]\n",
    "    top_96_mutation_df = pd.concat([top_96_mutation_df, name_df], axis=0)\n",
    "# print(top_96_mutation_df)\n",
    "mutation_list = list(top_96_mutation_df[\"nan_mutation_seq\"])\n",
    "mutation_pos = list(top_96_mutation_df[\"mutation_pos\"])\n",
    "top_96_index = []\n",
    "top_96_qfunc = []\n",
    "rank_list = []\n",
    "for nan_mutation_seq in tqdm(mutation_list):\n",
    "    index = dataframe[dataframe[\"seqs\"] == nan_mutation_seq].index.tolist()[0]\n",
    "    rank = index / all_num\n",
    "    qfunc = list(dataframe[dataframe[\"seqs\"] == nan_mutation_seq][\"predict_qfunce\"])[0]\n",
    "    top_96_qfunc.append(qfunc)\n",
    "    rank_list.append(rank)\n",
    "    top_96_index.append(index)\n",
    "print(top_96_index)\n",
    "print(rank_list)\n",
    "print(top_96_qfunc)\n",
    "top_96_df[\"mutation_pos\"] = mutation_pos\n",
    "top_96_df[\"index_pos\"] = top_96_index\n",
    "top_96_df[\"rank\"] = rank_list\n",
    "top_96_df[\"mutation_pos_qfunc\"] = top_96_qfunc\n",
    "top_96_df.to_csv(f\"/share/jake/hot_spot/data/test/method1/random_1000/hotspot_1000_max_real_{target}96_{train_set_num}_{seed}_new.csv\")\n",
    "\n"
   ]
  },
  {
   "cell_type": "code",
   "execution_count": 1,
   "metadata": {},
   "outputs": [
    {
     "name": "stdout",
     "output_type": "stream",
     "text": [
      "    Unnamed: 0      name  quantitative_function  predict_qfunc mutation_pos  \\\n",
      "86          10  sk_35164               0.007152       1.088150  129 182 190   \n",
      "87           7  sk_37445               0.007150       0.930457     5 93 139   \n",
      "88          45  sk_36587               0.007110       0.622715    31 91 139   \n",
      "89           2  sk_20173               0.007080       0.619602     13 26 91   \n",
      "90          14  sk_27292               0.006894       0.150235    59 99 143   \n",
      "\n",
      "    index_pos      rank  mutation_pos_qfunc  \n",
      "86    1508867  0.680088            0.573309  \n",
      "87     891985  0.402042            0.753836  \n",
      "88    1242963  0.560237            0.660103  \n",
      "89    2170124  0.978134            0.009628  \n",
      "90    2159798  0.973480            0.045288  \n",
      "predict_delta 5.276667311952318 mutation_pos_delta 2.894892620738937\n"
     ]
    }
   ],
   "source": [
    "import pandas as pd\n",
    "\n",
    "target = \"low96_fixed\"\n",
    "method = \"method1\"\n",
    "train_rep_num = \"1000\"\n",
    "input_path = f\"/share/jake/hot_spot/data/test/method1/{train_rep_num}/hotspot_1000_max_{target}_0_new.csv\"\n",
    "def get_delta(predct_lst, true_list):\n",
    "    assert len(predct_lst) == len(true_list)\n",
    "    delta = 0\n",
    "    for i in range(len(predct_lst)):\n",
    "        delta += (predct_lst[i]-true_list[i]) ** 2\n",
    "    return delta\n",
    "top_96_df = pd.read_csv(input_path)\n",
    "top_96_df.sort_values(by = \"quantitative_function\", ascending=False, inplace = True)\n",
    "top_96_df = top_96_df.reset_index(drop = True)\n",
    "# print(top_96_df.head())\n",
    "if \"low\" in target:\n",
    "    top_10_df = top_96_df[-10:]\n",
    "    print(top_10_df.head())\n",
    "else:\n",
    "    top_10_df = top_96_df[:10]\n",
    "    print(top_10_df.head())\n",
    "predict_delta = get_delta(list(top_10_df[\"predict_qfunc\"]), list(top_10_df[\"quantitative_function\"]))\n",
    "mutation_pos_delta = get_delta(list(top_10_df[\"mutation_pos_qfunc\"]), list(top_10_df[\"quantitative_function\"]))\n",
    "print(\"predict_delta\", predict_delta, \"mutation_pos_delta\", mutation_pos_delta)"
   ]
  }
 ],
 "metadata": {
  "interpreter": {
   "hash": "40d3a090f54c6569ab1632332b64b2c03c39dcf918b08424e98f38b5ae0af88f"
  },
  "kernelspec": {
   "display_name": "Python 3.6.8 ('base')",
   "language": "python",
   "name": "python3"
  },
  "language_info": {
   "codemirror_mode": {
    "name": "ipython",
    "version": 3
   },
   "file_extension": ".py",
   "mimetype": "text/x-python",
   "name": "python",
   "nbconvert_exporter": "python",
   "pygments_lexer": "ipython3",
   "version": "3.6.8"
  },
  "orig_nbformat": 4
 },
 "nbformat": 4,
 "nbformat_minor": 2
}
