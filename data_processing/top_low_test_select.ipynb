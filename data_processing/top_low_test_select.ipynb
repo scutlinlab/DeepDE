{
 "cells": [
  {
   "cell_type": "code",
   "execution_count": 1,
   "metadata": {},
   "outputs": [
    {
     "name": "stdout",
     "output_type": "stream",
     "text": [
      "['sk_35164', 'sk_37445', 'sk_36587', 'sk_20173', 'sk_27292', 'sk_41140', 'sk_31272', 'sk_5051', 'sk_27111', 'sk_33163']\n",
      "eUniRep-Augmenting_top10_data_predict_delta 1.7023695934332796 eUniRep-Augmenting_min10_data_predict_delta 0.26298334680536833 eUniRep-Augmenting_low10_data_predict_delta 0.21565270442492523\n"
     ]
    },
    {
     "name": "stderr",
     "output_type": "stream",
     "text": [
      "/opt/anaconda3/lib/python3.6/site-packages/ipykernel_launcher.py:63: SettingWithCopyWarning: \n",
      "A value is trying to be set on a copy of a slice from a DataFrame.\n",
      "Try using .loc[row_indexer,col_indexer] = value instead\n",
      "\n",
      "See the caveats in the documentation: http://pandas.pydata.org/pandas-docs/stable/indexing.html#indexing-view-versus-copy\n"
     ]
    }
   ],
   "source": [
    "import pandas as pd\n",
    "import numpy as np\n",
    "import os\n",
    "import math\n",
    "import random\n",
    "\n",
    "model_name = \"eUniRep-Augmenting\"\n",
    "sampling_method = \"random_1-2_ratio\"\n",
    "top_model_name = \"lin\"\n",
    "test_mut_num = 3\n",
    "training_objectives = f'gfp_SK_test_{test_mut_num}'#'SK_split_test_3\n",
    "n_train_seqs = '1000'\n",
    "seed = 0\n",
    "input_path = f\"/share/jake/github/low_n_output/predict_qfunc/{model_name}\"\n",
    "output_path = f\"/share/jake/github/low_n_output/top_low_testset/{model_name}\"\n",
    "np.random.seed(seed)\n",
    "random.seed(seed)\n",
    "def create_dir_not_exist(path):\n",
    "    if not os.path.exists(path):\n",
    "        os.mkdir(path)\n",
    "\n",
    "def get_delta(predct_lst, true_list):\n",
    "    assert len(predct_lst) == len(true_list)\n",
    "    delta = 0\n",
    "    for i in range(len(predct_lst)):\n",
    "        delta += (predct_lst[i]-true_list[i]) ** 2\n",
    "    return delta / len(predct_lst)\n",
    "\n",
    "def normalization_to_ratio(norm_list:list):\n",
    "    ratio_list = []\n",
    "    for i in norm_list:\n",
    "        ratio = math.pow(10, (i*(3.719-1.283)+1.283)) / math.pow(10, 3.719)\n",
    "        ratio_list.append(ratio)\n",
    "    return ratio_list\n",
    "\n",
    "input_csv_name = f\"{model_name}_{top_model_name}_{sampling_method}_{training_objectives}_n_train_seqs_{n_train_seqs}_seed_{seed}\"\n",
    "all_datas = pd.read_csv(f\"{input_path}/{input_csv_name}.csv\")\n",
    "# all_datas.drop(all_datas.columns[[0]], axis=1,inplace=True)\n",
    "\n",
    "all_datas = all_datas[all_datas[\"distance\"] == test_mut_num]\n",
    "all_datas.sort_values(by = \"quantitative_function\", ascending=False, inplace = True)\n",
    "# print(all_datas.head())\n",
    "\n",
    "# print(all_datas.head())\n",
    "top10_data = all_datas[:10]\n",
    "low_96_data_old = pd.read_csv(\"/share/jake/hot_spot/data/test/method2/random_1-2_1000/hotspot_onehot_method2_3mutation_top_5%_func_low96_0_new.csv\")\n",
    "low_96_data_old.sort_values(by = \"quantitative_function\", ascending=False, inplace = True)\n",
    "low_10_data_old = low_96_data_old[-10:]\n",
    "print(list(low_10_data_old[\"name\"]))\n",
    "\n",
    "low_10_data = pd.DataFrame()\n",
    "for name in list(low_10_data_old[\"name\"]):\n",
    "    df = all_datas[all_datas[\"name\"] == name]\n",
    "    low_10_data = pd.concat([low_10_data, df])\n",
    "# print(low_10_data.head())\n",
    "\n",
    "min_data_1 = all_datas[all_datas[\"quantitative_function\"] > 0.5]\n",
    "min_data = min_data_1[min_data_1[\"quantitative_function\"] < 0.6]\n",
    "min10_data = min_data.sample(10)\n",
    "# print(min10_data.head())\n",
    "if \"ratio\" in input_csv_name:\n",
    "    top_10_ratio = normalization_to_ratio(top10_data[\"quantitative_function\"].to_list())\n",
    "    top10_data[\"quantitative_function_ratio\"] = top_10_ratio\n",
    "    low_10_ratio = normalization_to_ratio(low_10_data[\"quantitative_function\"].to_list())\n",
    "    low_10_data[\"quantitative_function_ratio\"] = low_10_ratio\n",
    "    min_10_ratio = normalization_to_ratio(min10_data[\"quantitative_function\"].to_list())\n",
    "    min10_data[\"quantitative_function_ratio\"] = min_10_ratio\n",
    "output_df_temp = pd.concat([top10_data, min10_data, low_10_data])\n",
    "# print(output_df_temp)\n",
    "create_dir_not_exist(output_path)\n",
    "output_df_temp.to_csv(f\"{output_path}/{input_csv_name}_toplowtest.csv\")\n",
    "if \"ratio\" in input_csv_name:\n",
    "    top10_data_predict_delta = get_delta(list(top10_data[f\"{model_name}_{top_model_name}\"]), list(top10_data[\"quantitative_function_ratio\"]))\n",
    "    min10_data_predict_delta = get_delta(list(min10_data[f\"{model_name}_{top_model_name}\"]), list(min10_data[\"quantitative_function_ratio\"]))\n",
    "    low10_data_predict_delta = get_delta(list(low_10_data[f\"{model_name}_{top_model_name}\"]), list(low_10_data[\"quantitative_function_ratio\"]))\n",
    "else:\n",
    "    top10_data_predict_delta = get_delta(list(top10_data[f\"{model_name}_{top_model_name}\"]), list(top10_data[\"quantitative_function\"]))\n",
    "    min10_data_predict_delta = get_delta(list(min10_data[f\"{model_name}_{top_model_name}\"]), list(min10_data[\"quantitative_function\"]))\n",
    "    low10_data_predict_delta = get_delta(list(low_10_data[f\"{model_name}_{top_model_name}\"]), list(low_10_data[\"quantitative_function\"]))\n",
    "print(f\"{model_name}_top10_data_predict_delta\", top10_data_predict_delta, f\"{model_name}_min10_data_predict_delta\", min10_data_predict_delta, f\"{model_name}_low10_data_predict_delta\", low10_data_predict_delta)"
   ]
  },
  {
   "cell_type": "code",
   "execution_count": 36,
   "metadata": {},
   "outputs": [
    {
     "name": "stdout",
     "output_type": "stream",
     "text": [
      "eUniRep-Augmenting_top10_data_predict_delta 0.06948071082454363 eUniRep-Augmenting_min10_data_predict_delta 0.032275110505170096 eUniRep-Augmenting_low10_data_predict_delta 0.30493729899706223\n"
     ]
    }
   ],
   "source": [
    "\n",
    "top10_data_predict_delta = get_delta(list(top10_data[f\"{model_name}_{top_model_name}\"]), list(top10_data[\"quantitative_function\"]))\n",
    "min10_data_predict_delta = get_delta(list(min10_data[f\"{model_name}_{top_model_name}\"]), list(min10_data[\"quantitative_function\"]))\n",
    "low10_data_predict_delta = get_delta(list(low_10_data[f\"{model_name}_{top_model_name}\"]), list(low_10_data[\"quantitative_function\"]))\n",
    "print(f\"{model_name}_top10_data_predict_delta\", min10_data_predict_delta, f\"{model_name}_min10_data_predict_delta\", top10_data_predict_delta, f\"{model_name}_low10_data_predict_delta\", low10_data_predict_delta)"
   ]
  },
  {
   "cell_type": "code",
   "execution_count": 3,
   "metadata": {},
   "outputs": [
    {
     "name": "stdout",
     "output_type": "stream",
     "text": [
      "eUniRep-Augmenting_top10_data_predict_delta 1.9388253231111316 eUniRep-Augmenting_min10_data_predict_delta 0.22062191316745983 eUniRep-Augmenting_low10_data_predict_delta 0.11456793168235987\n"
     ]
    },
    {
     "name": "stderr",
     "output_type": "stream",
     "text": [
      "/opt/anaconda3/lib/python3.6/site-packages/ipykernel_launcher.py:55: SettingWithCopyWarning: \n",
      "A value is trying to be set on a copy of a slice from a DataFrame.\n",
      "Try using .loc[row_indexer,col_indexer] = value instead\n",
      "\n",
      "See the caveats in the documentation: http://pandas.pydata.org/pandas-docs/stable/indexing.html#indexing-view-versus-copy\n",
      "/opt/anaconda3/lib/python3.6/site-packages/ipykernel_launcher.py:57: SettingWithCopyWarning: \n",
      "A value is trying to be set on a copy of a slice from a DataFrame.\n",
      "Try using .loc[row_indexer,col_indexer] = value instead\n",
      "\n",
      "See the caveats in the documentation: http://pandas.pydata.org/pandas-docs/stable/indexing.html#indexing-view-versus-copy\n"
     ]
    }
   ],
   "source": [
    "import pandas as pd\n",
    "import numpy as np\n",
    "import os\n",
    "import random\n",
    "\n",
    "model_name = \"eUniRep-Augmenting\" #eUniRep-Augmenting\n",
    "sampling_method = \"random_1-2_ratio\"\n",
    "top_model_name = \"lin\"\n",
    "test_mut_num = 2\n",
    "training_objectives = f'gfp_SK_test_{test_mut_num}'#'SK_split_test_3\n",
    "n_train_seqs = '1000'\n",
    "seed = 0\n",
    "input_path = f\"/share/jake/github/low_n_output/predict_qfunc/{model_name}\"\n",
    "output_path = f\"/share/jake/github/low_n_output/top_low_testset/{model_name}\"\n",
    "np.random.seed(seed)\n",
    "random.seed(seed)\n",
    "def create_dir_not_exist(path):\n",
    "    if not os.path.exists(path):\n",
    "        os.mkdir(path)\n",
    "\n",
    "def get_delta(predct_lst, true_list):\n",
    "    assert len(predct_lst) == len(true_list)\n",
    "    delta = 0\n",
    "    for i in range(len(predct_lst)):\n",
    "        delta += (predct_lst[i]-true_list[i]) ** 2\n",
    "    return delta / len(predct_lst)\n",
    "\n",
    "def normalization_to_ratio(norm_list:list):\n",
    "    ratio_list = []\n",
    "    for i in norm_list:\n",
    "        ratio = math.pow(10, (i*(3.719-1.283)+1.283)) / math.pow(10, 3.719)\n",
    "        ratio_list.append(ratio)\n",
    "    return ratio_list\n",
    "\n",
    "input_csv_name = f\"{model_name}_{top_model_name}_{sampling_method}_{training_objectives}_n_train_seqs_{n_train_seqs}_seed_{seed}\"\n",
    "all_datas = pd.read_csv(f\"{input_path}/{input_csv_name}.csv\")\n",
    "all_datas.drop(all_datas.columns[[0]], axis=1,inplace=True)\n",
    "all_datas.drop(all_datas.columns[[0]], axis=1,inplace=True)\n",
    "all_datas.drop(all_datas.columns[[0]], axis=1,inplace=True)\n",
    "all_datas = all_datas[all_datas[\"distance\"] == test_mut_num]\n",
    "all_datas.sort_values(by = \"quantitative_function\", ascending=False, inplace = True)\n",
    "# print(all_datas.head())\n",
    "\n",
    "# print(all_datas.head())\n",
    "top10_data = all_datas[:10]\n",
    "low_10_data = all_datas[-10:]\n",
    "# print(low_10_data.head())\n",
    "\n",
    "min_data_1 = all_datas[all_datas[\"quantitative_function\"] > 0.5]\n",
    "min_data = min_data_1[min_data_1[\"quantitative_function\"] < 0.6]\n",
    "min10_data = min_data.sample(10)\n",
    "# print(min10_data.head())\n",
    "if \"ratio\" in input_csv_name:\n",
    "    top_10_ratio = normalization_to_ratio(top10_data[\"quantitative_function\"].to_list())\n",
    "    top10_data[\"quantitative_function_ratio\"] = top_10_ratio\n",
    "    low_10_ratio = normalization_to_ratio(low_10_data[\"quantitative_function\"].to_list())\n",
    "    low_10_data[\"quantitative_function_ratio\"] = low_10_ratio\n",
    "    min_10_ratio = normalization_to_ratio(min10_data[\"quantitative_function\"].to_list())\n",
    "    min10_data[\"quantitative_function_ratio\"] = min_10_ratio\n",
    "output_df_temp = pd.concat([top10_data, min10_data, low_10_data])\n",
    "# print(output_df_temp)\n",
    "create_dir_not_exist(output_path)\n",
    "output_df_temp.to_csv(f\"{output_path}/{input_csv_name}_toplowtest.csv\")\n",
    "if \"ratio\" in input_csv_name:\n",
    "    top10_data_predict_delta = get_delta(list(top10_data[f\"{model_name}_{top_model_name}\"]), list(top10_data[\"quantitative_function_ratio\"]))\n",
    "    min10_data_predict_delta = get_delta(list(min10_data[f\"{model_name}_{top_model_name}\"]), list(min10_data[\"quantitative_function_ratio\"]))\n",
    "    low10_data_predict_delta = get_delta(list(low_10_data[f\"{model_name}_{top_model_name}\"]), list(low_10_data[\"quantitative_function_ratio\"]))\n",
    "else:\n",
    "    top10_data_predict_delta = get_delta(list(top10_data[f\"{model_name}_{top_model_name}\"]), list(top10_data[\"quantitative_function\"]))\n",
    "    min10_data_predict_delta = get_delta(list(min10_data[f\"{model_name}_{top_model_name}\"]), list(min10_data[\"quantitative_function\"]))\n",
    "    low10_data_predict_delta = get_delta(list(low_10_data[f\"{model_name}_{top_model_name}\"]), list(low_10_data[\"quantitative_function\"]))\n",
    "print(f\"{model_name}_top10_data_predict_delta\", top10_data_predict_delta, f\"{model_name}_min10_data_predict_delta\", min10_data_predict_delta, f\"{model_name}_low10_data_predict_delta\", low10_data_predict_delta)"
   ]
  }
 ],
 "metadata": {
  "kernelspec": {
   "display_name": "Python 3.6.8 ('base')",
   "language": "python",
   "name": "python3"
  },
  "language_info": {
   "codemirror_mode": {
    "name": "ipython",
    "version": 3
   },
   "file_extension": ".py",
   "mimetype": "text/x-python",
   "name": "python",
   "nbconvert_exporter": "python",
   "pygments_lexer": "ipython3",
   "version": "3.6.8"
  },
  "orig_nbformat": 4,
  "vscode": {
   "interpreter": {
    "hash": "40d3a090f54c6569ab1632332b64b2c03c39dcf918b08424e98f38b5ae0af88f"
   }
  }
 },
 "nbformat": 4,
 "nbformat_minor": 2
}
