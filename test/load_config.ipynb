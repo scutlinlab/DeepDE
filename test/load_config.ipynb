{
 "cells": [
  {
   "cell_type": "code",
   "execution_count": 95,
   "metadata": {},
   "outputs": [],
   "source": [
    "import pickle\n",
    "import numpy as np\n",
    "import Levenshtein\n",
    "import pickle\n",
    "import numpy as np\n",
    "import seaborn as sns\n",
    "import pandas as pd\n",
    "sns.set()\n",
    "\n",
    "with open(\"/home/wangqihan/low-N-protein-engineering/analysis/A006_simulated_annealing/hyperborg/GFP_SA_config-ET_Global_Init_1-0096-00-3ea5f6e.p\", 'rb') as f:\n",
    "    config = pickle.load(f)"
   ]
  },
  {
   "cell_type": "code",
   "execution_count": 96,
   "metadata": {},
   "outputs": [
    {
     "name": "stdout",
     "output_type": "stream",
     "text": [
      "{'nmut_threshold': 15, 'temp_decay_rate': 1.0, 'output_file': 'GFP_SimAnneal-ET_Global_Init_1-0096-00-3ea5f6e.p', 'min_mut_pos': 29, 'n_chains': 3500, 'n_train_seqs': 96, 'seed': 0, 'T_max': array([0.01, 0.01, 0.01, ..., 0.01, 0.01, 0.01]), 'sa_n_iter': 3000, 'model': 'ET_Global_Init_1', 'max_mut_pos': 110}\n",
      "(3500,)\n",
      "(3500,)\n"
     ]
    }
   ],
   "source": [
    "print(config)\n",
    "print(config[\"T_max\"].shape)\n",
    "for i in config[\"T_max\"]:\n",
    "    if i != 0.01:\n",
    "        print(1)\n",
    "T_max = np.ones(3500,) * 0.01\n",
    "print(T_max.shape)"
   ]
  },
  {
   "cell_type": "code",
   "execution_count": 97,
   "metadata": {},
   "outputs": [
    {
     "name": "stdout",
     "output_type": "stream",
     "text": [
      "3000\n",
      "3000\n",
      "True\n"
     ]
    }
   ],
   "source": [
    "pet_wt = \"MNFPRASRLMQAAVLGGLMAVSAAATAQTNPYARGPNPTAASLEASAGPFTVRSFTVSRPSGYGAGTVYYPTNAGGTVGAIAIVPGYTARQSSIKWWGPRLASHGFVVITIDTNSTLDQPSSRSSQQMAALRQVASLNGTSSSPIYGKVDTARMGVMGWSMGGGGSLISAANNPSLKAAAPQAPWDSSTNFSSVTVPTLIFACENDSIAPVNSSALPIYDSMSRNAKQFLEINGGSHSCANSGNSNQALIGKKGVAWMKRFMDNDTRYSTFACENPNSTRVSDFRTANCS\"\n",
    "design_data = []\n",
    "design_data_3000 = []\n",
    "# with open('/home/wangqihan/Low_n_alphafold_test/design/design_seqs/eUniRep_pet_0_stability_b0_100_design_data.txt', 'r') as f2:   eUniRep_pet_0_stability_b0_seq_history_250.txt\n",
    "with open('/home/wangqihan/Low_n_alphafold_test/design/design_ga_seqs/eUniRep_pet_0_stability_GA_top3000.txt', 'r') as f2:\n",
    "    seqs = f2.readlines()\n",
    "    for data in seqs:\n",
    "        seq = data.split()[0]\n",
    "        design_data.append(seq)\n",
    "print(len(design_data))\n",
    "with open('/home/wangqihan/Low_n_alphafold_test/design/design_ga_seqs/eUniRep_pet_0_stability_GA_top3000.txt', 'r') as f1:\n",
    "    seqs = f1.readlines()\n",
    "    for data in seqs:\n",
    "        seq = data.split()[0]\n",
    "        design_data_3000.append(seq)\n",
    "print(len(design_data_3000))\n",
    "# print(design_data[0:10])\n",
    "print(design_data[0] == design_data_3000[0])"
   ]
  },
  {
   "cell_type": "code",
   "execution_count": 98,
   "metadata": {},
   "outputs": [],
   "source": [
    "distance_list = []\n",
    "for i in range(len(design_data)):\n",
    "    distance = Levenshtein.distance(pet_wt, design_data[i])#(raw_data[i], design_data[i])\n",
    "    distance_list.append(distance)\n",
    "# print(distance_list)\n",
    "for i in range(len(distance_list)):\n",
    "    if distance_list[i] > 7:\n",
    "        print(i)"
   ]
  },
  {
   "cell_type": "code",
   "execution_count": 100,
   "metadata": {},
   "outputs": [],
   "source": [
    "name_list_3000 = []\n",
    "for i, seq in enumerate(design_data_3000):\n",
    "    name_list_3000.append(i)\n",
    "with open(\"/home/wangqihan/Low_n_alphafold_test/design/design_ga_fasta/eUniRep_pet_seed_0_stability_ga_top_0_1000.fasta\", \"a\") as f:\n",
    "    for i, seq in enumerate(design_data_3000[0:1000]):\n",
    "        f.write(f\">{name_list_3000[i + 0]}\\n{seq}\\n\")\n"
   ]
  },
  {
   "cell_type": "code",
   "execution_count": 102,
   "metadata": {},
   "outputs": [
    {
     "name": "stdout",
     "output_type": "stream",
     "text": [
      "True\n"
     ]
    }
   ],
   "source": [
    "with open(\"/home/wangqihan/Low_n_alphafold_test/design/design_ga_fasta/eUniRep_pet_seed_0_stability_ga_top_0_1000.fasta\", \"r\") as f:\n",
    "    datas = f.readlines()\n",
    "    print(datas[1][:-1] == design_data_3000[0])"
   ]
  }
 ],
 "metadata": {
  "interpreter": {
   "hash": "4879d5504799e6b66304a196936884d5b3e00df18b84df9b7898a8639fab141d"
  },
  "kernelspec": {
   "display_name": "Python 3.7.0 64-bit ('openfold_venv': conda)",
   "language": "python",
   "name": "python3"
  },
  "language_info": {
   "codemirror_mode": {
    "name": "ipython",
    "version": 3
   },
   "file_extension": ".py",
   "mimetype": "text/x-python",
   "name": "python",
   "nbconvert_exporter": "python",
   "pygments_lexer": "ipython3",
   "version": "3.7.0"
  },
  "orig_nbformat": 4
 },
 "nbformat": 4,
 "nbformat_minor": 2
}
