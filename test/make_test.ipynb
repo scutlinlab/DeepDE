{
 "cells": [
  {
   "cell_type": "code",
   "execution_count": 2,
   "metadata": {},
   "outputs": [],
   "source": [
    "import os\n",
    "import csv\n",
    "from tqdm import tqdm\n",
    "import xlrd\n",
    "import pandas as pd"
   ]
  },
  {
   "cell_type": "code",
   "execution_count": 3,
   "metadata": {},
   "outputs": [
    {
     "name": "stdout",
     "output_type": "stream",
     "text": [
      "['Sheet1', 'low-N_split_1', 'low-N_split-0 2', 'low-N_seq2name']\n"
     ]
    }
   ],
   "source": [
    "data = xlrd.open_workbook(\"/home/wangqihan/Sarkisyan2016_clear.xlsx\")\n",
    "print (data.sheet_names())"
   ]
  },
  {
   "cell_type": "code",
   "execution_count": 4,
   "metadata": {},
   "outputs": [
    {
     "name": "stdout",
     "output_type": "stream",
     "text": [
      "['seq', 'quantitative_function', 'name']\n",
      "54026 10\n"
     ]
    }
   ],
   "source": [
    "test_data = data.sheet_by_name(u\"Sheet1\")\n",
    "nrows = test_data.nrows\n",
    "ncols = test_data.ncols\n",
    "title = [\"seq\", \"quantitative_function\", \"name\"]\n",
    "print(title)\n",
    "print(nrows, ncols)"
   ]
  },
  {
   "cell_type": "code",
   "execution_count": 11,
   "metadata": {},
   "outputs": [
    {
     "name": "stdout",
     "output_type": "stream",
     "text": [
      "51715\n",
      "0.npy\n"
     ]
    }
   ],
   "source": [
    "rows = []\n",
    "name_list = []\n",
    "for i in range(nrows - 1):\n",
    "    if \"*\" in test_data.cell(i + 1, 8).value:\n",
    "        continue\n",
    "    else:\n",
    "        row_data = (test_data.cell(i + 1, 8).value, test_data.cell(i + 1, 3).value, int(test_data.cell(i + 1, 0).value))\n",
    "        name_list.append(str(int(test_data.cell(i + 1, 0).value)) + \".npy\")\n",
    "    rows.append(row_data)\n",
    "print(len(rows))\n",
    "print(name_list[0])"
   ]
  },
  {
   "cell_type": "code",
   "execution_count": 6,
   "metadata": {},
   "outputs": [
    {
     "name": "stdout",
     "output_type": "stream",
     "text": [
      "59\n",
      "['16577.npy', '27187.npy', '22154.npy', '45907.npy', '49911.npy', '51743.npy', '22151.npy', '22156.npy', '24201.npy', '49305.npy', '24944.npy', '1emm_mod.pdb.npy', '37389.npy', '23835.npy', '41812.npy', '1599.npy', '22148.npy', '12580.npy', '31022.npy', '22146.npy', '22153.npy', '22155.npy', '44460.npy', '22136.npy', '11745.npy', '47952.npy', '1112.npy', '22138.npy', '5070.npy', '26069.npy', '48136.npy', '36514.npy', '42936.npy', '41600.npy', '22142.npy', '52384.npy', '22144.npy', '22147.npy', '12232.npy', '39098.npy', '28668.npy', '32914.npy', '3138.npy', '22145.npy', '36786.npy', '8772.npy', '22149.npy', '14922.npy', '40401.npy', '22152.npy', '22141.npy', '51922.npy', '22137.npy', '22140.npy', '452.npy', '22143.npy', '23548.npy', '49874.npy', '3406.npy']\n"
     ]
    }
   ],
   "source": [
    "shaixuan = []\n",
    "name_lsit1 = os.listdir(\"/share/joseph/seqtonpy/gfp/knn_self_512_full/self_20201216_5__self_20201215_8_sota_right_n2_knnnet150_del_tor_lstm\")\n",
    "for name in name_lsit1:\n",
    "    if name in name_list:\n",
    "        continue\n",
    "    else:\n",
    "        shaixuan.append(name)\n",
    "print(len(shaixuan))\n",
    "print(shaixuan)"
   ]
  },
  {
   "cell_type": "code",
   "execution_count": 9,
   "metadata": {},
   "outputs": [
    {
     "name": "stdout",
     "output_type": "stream",
     "text": [
      "51715 51715\n",
      "[]\n"
     ]
    }
   ],
   "source": [
    "with open(\"/share/joseph/seqtonpy/gfp/gfp.txt\", \"r\") as f1:\n",
    "    datas = f1.readlines()\n",
    "name_list_2 = []\n",
    "shaixuan_1 = []\n",
    "for data in datas:\n",
    "    name = str(data.split()[0]) + \".npy\"\n",
    "    name_list_2.append(name)\n",
    "print(len(name_list_2), len(name_list))\n",
    "for name in name_list_2:\n",
    "    if name in name_list:\n",
    "        continue\n",
    "    else:\n",
    "        shaixuan_1.append(name)\n",
    "print(shaixuan_1)"
   ]
  },
  {
   "cell_type": "code",
   "execution_count": 28,
   "metadata": {},
   "outputs": [
    {
     "name": "stdout",
     "output_type": "stream",
     "text": [
      "51715\n"
     ]
    }
   ],
   "source": [
    "c = open(\"/home/wangqihan/sk_ALL.csv\", \"w\", encoding=\"utf8\")\n",
    "writer = csv.writer(c)\n",
    "writer.writerow(title)\n",
    "print(len(rows))\n",
    "writer.writerows(rows)"
   ]
  },
  {
   "cell_type": "code",
   "execution_count": 23,
   "metadata": {},
   "outputs": [
    {
     "name": "stdout",
     "output_type": "stream",
     "text": [
      "51712 51715\n",
      "3\n"
     ]
    }
   ],
   "source": [
    "csv_file = pd.read_csv(\"/home/wangqihan/sk_ALL.csv\")\n",
    "name_list_3 = csv_file[\"name\"]\n",
    "# print(name_list_3)\n",
    "name_list_4 = []\n",
    "for i  in name_list_3:\n",
    "    name_list_4.append(str(i) + \".npy\")\n",
    "print(len(name_list_4), len(name_list))\n",
    "shaixuan_2 = []\n",
    "for name in name_list:\n",
    "    if name in name_list_4:\n",
    "        continue\n",
    "    else:\n",
    "        shaixuan_2.append(name)\n",
    "print(len(shaixuan_2))"
   ]
  },
  {
   "cell_type": "code",
   "execution_count": 24,
   "metadata": {},
   "outputs": [
    {
     "name": "stdout",
     "output_type": "stream",
     "text": [
      "['54022.npy', '54023.npy', '54024.npy']\n"
     ]
    }
   ],
   "source": [
    "print(shaixuan_2)"
   ]
  },
  {
   "cell_type": "code",
   "execution_count": 27,
   "metadata": {},
   "outputs": [
    {
     "name": "stdout",
     "output_type": "stream",
     "text": [
      "[('MSKGEELFTGVVPILVELDGDVNGHKFSVSGEGEGDATYGKLTLKFICTTGKLPVPWPTLVTTLSYGVQCFSRYPDHMKQHDFFKSAMPEGRVQERTIFFKDDGNYKTRAEVKFEGDTLVNRIELKGIDFKEDGNILGHKLEYNYNSHNVYNMADKQKNGIKVNFKIRHNIEDGSVQLADHYQQNTPIGDGPVLLPDSHYLSTQSALSKDPNEKRDHMVLLEFVTAAGITHGMDELYK', 1.30102998996, 54022), ('MSKGEELFTGVVPILVELDGDVNGHKFSVSGEGEGDATYGKLTLKFICTTGKLPVPWPTLVTTLSYGVQCFSRYPDHMKQHDFFKSAMPEGRVQERTIFFKDDGNYKTRAEVKFEGDTLVNRIELKGIDFKEDGNILGHKLEYNYNSHNVYIMADKQKNGIKVNFKTRHNIEDGSVQLADHYQQNTPIGDGPVLLPDNHYLSTQSALSKDPNEKRDHMVLLEFVTAAGITHGMDEPYK', 1.30151724151, 54023), ('MSKGEELFTGVVPILVELDGDVNGHKFSVSGEGEGDATYGKLTLKFICTTGKLPVPWPTLVTTLSYGVQCFSRYPDHMKQHDFFKSAMPEGSVQERTIFFKDDGDYETRAEVKFEGDTLVNRIELKGIDLKEDGNILGHKLEYNYNSHNVYVMADKQKNGIKVNFKIRHNIEDGSVQLADHYQQNTPIGDGPVLLPDNHYLSTQSALSKDPNEKRDHMVLLEFVTAAGITHGMDELYK', 1.30213025588, 54024)]\n"
     ]
    }
   ],
   "source": [
    "c = open(\"/home/wangqihan/sk_ALL.csv\", \"w\", encoding=\"utf8\")\n",
    "writer = csv.writer(c)\n",
    "writer.writerow(title)\n",
    "print(rows[-3:])\n",
    "writer.writerows(rows[-3:])"
   ]
  }
 ],
 "metadata": {
  "interpreter": {
   "hash": "40d3a090f54c6569ab1632332b64b2c03c39dcf918b08424e98f38b5ae0af88f"
  },
  "kernelspec": {
   "display_name": "Python 3.6.8 64-bit ('base': conda)",
   "language": "python",
   "name": "python3"
  },
  "language_info": {
   "codemirror_mode": {
    "name": "ipython",
    "version": 3
   },
   "file_extension": ".py",
   "mimetype": "text/x-python",
   "name": "python",
   "nbconvert_exporter": "python",
   "pygments_lexer": "ipython3",
   "version": "3.6.8"
  },
  "orig_nbformat": 4
 },
 "nbformat": 4,
 "nbformat_minor": 2
}
