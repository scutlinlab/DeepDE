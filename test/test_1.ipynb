{
 "cells": [
  {
   "cell_type": "code",
   "execution_count": 60,
   "metadata": {},
   "outputs": [],
   "source": [
    "import pickle\n",
    "import numpy as np\n",
    "import Levenshtein\n",
    "import pickle\n",
    "import numpy as np\n",
    "import seaborn as sns\n",
    "import pandas as pd\n",
    "import random"
   ]
  },
  {
   "cell_type": "code",
   "execution_count": 61,
   "metadata": {},
   "outputs": [],
   "source": [
    "pet_wt = \"MNFPRASRLMQAAVLGGLMAVSAAATAQTNPYARGPNPTAASLEASAGPFTVRSFTVSRPSGYGAGTVYYPTNAGGTVGAIAIVPGYTARQSSIKWWGPRLASHGFVVITIDTNSTLDQPSSRSSQQMAALRQVASLNGTSSSPIYGKVDTARMGVMGWSMGGGGSLISAANNPSLKAAAPQAPWDSSTNFSSVTVPTLIFACENDSIAPVNSSALPIYDSMSRNAKQFLEINGGSHSCANSGNSNQALIGKKGVAWMKRFMDNDTRYSTFACENPNSTRVSDFRTANCS\"\n",
    "target_seq = \"MNFPRASRLMQAAVLGGLMAVSAAATAQTNPYARGPNPTAASAEASAGKFRVRSFTVSRPSGYGAGTVYYPGNAGGTVGAIAIVPVSTARQSSIKWWGPRLASHGFVNITIDTNSTLDQPSSRSSQQMAALRQVASLNGTSSSPIYGKVDTARMGVMGWSMGGGGSLISAANNPSLKAAAPQAPWDSSTNFSSVTVPTLIFACENDSIAPVNSSALPIYDSMSRNAKQFLEINGGSHSCANSGNSNQALIGKKGVAWMKRFMDNDTRYSTFACENPNSTRVSDFRTANCS\"\n",
    "AA_LIST = ['A', 'C', 'D', 'E', 'F', \n",
    "           'G', 'H', 'I', 'K', 'L', \n",
    "           'M', 'N', 'P', 'Q', 'R', \n",
    "           'S', 'T', 'V', 'W', 'Y']\n",
    "save_pos = \"/home/wangqihan/Low_n_alphafold_test/design/test/mut_\""
   ]
  },
  {
   "cell_type": "code",
   "execution_count": 62,
   "metadata": {},
   "outputs": [
    {
     "name": "stdout",
     "output_type": "stream",
     "text": [
      "7\n",
      "290\n"
     ]
    }
   ],
   "source": [
    "distance = Levenshtein.distance(pet_wt, target_seq)\n",
    "print(distance)\n",
    "print(len(target_seq))"
   ]
  },
  {
   "cell_type": "code",
   "execution_count": 63,
   "metadata": {},
   "outputs": [
    {
     "name": "stdout",
     "output_type": "stream",
     "text": [
      "[42, 48, 50, 71, 85, 86, 107] ['A', 'K', 'R', 'G', 'V', 'S', 'N'] ['L', 'P', 'T', 'T', 'G', 'Y', 'V']\n"
     ]
    }
   ],
   "source": [
    "seq_pos = []\n",
    "mut_site = []\n",
    "ori_site = []\n",
    "for i in range(len(target_seq)):\n",
    "    if pet_wt[i] != target_seq[i]:\n",
    "        seq_pos.append(i)\n",
    "        mut_site.append(target_seq[i])\n",
    "        ori_site.append(pet_wt[i])\n",
    "print(seq_pos, mut_site, ori_site)"
   ]
  },
  {
   "cell_type": "code",
   "execution_count": 65,
   "metadata": {},
   "outputs": [],
   "source": [
    "def mutation_location(target_seq, wt_seq):\n",
    "    seq_pos = []\n",
    "    mut_site = []\n",
    "    ori_site = []\n",
    "    for i in range(len(target_seq)):\n",
    "        if wt_seq[i] != target_seq[i]:\n",
    "            seq_pos.append(i)\n",
    "            mut_site.append(target_seq[i])\n",
    "            ori_site.append(wt_seq[i])\n",
    "    return seq_pos, mut_site, ori_site\n",
    "\n",
    "def reversion_mutation(target_seq, wt_seq):\n",
    "    seq_pos, mut_site, ori_site = mutation_location(target_seq, wt_seq)\n",
    "    rev_seqs = []\n",
    "    for i, pos in enumerate(seq_pos):\n",
    "        # print(pos)\n",
    "        rev_seqs.append(target_seq[0: pos] + ori_site[i] + target_seq[pos+1: ])\n",
    "    return rev_seqs\n",
    "def save_seqs(seq_list, save_pos):\n",
    "    seq_mut = []\n",
    "    for seq in seq_list:\n",
    "        seqs = reversion_mutation(seq, pet_wt)\n",
    "        seq_mut += seqs\n",
    "    for seq in seq_mut:\n",
    "        distance = Levenshtein.distance(pet_wt, seq)\n",
    "    seq_mut_1 = random.sample(seq_mut, 10)\n",
    "    with open(f\"{save_pos}_{str(distance)}.fasta\", \"a\") as f:\n",
    "        for i, seq in enumerate(seq_mut_1):\n",
    "            f.write(f\">{str(i)}_{str(distance)}\\n{seq}\\n\")\n",
    "    return seq_mut\n"
   ]
  },
  {
   "cell_type": "code",
   "execution_count": 66,
   "metadata": {},
   "outputs": [
    {
     "name": "stdout",
     "output_type": "stream",
     "text": [
      "MNFPRASRLMQAAVLGGLMAVSAAATAQTNPYARGPNPTAAS\n",
      "MNFPRASRLMQAAVLGGLMAVSAAATAQTNPYARGPNPTAAS\n",
      "[42, 48, 50, 71, 85, 86, 107] ['A', 'K', 'R', 'G', 'V', 'S', 'N'] ['L', 'P', 'T', 'T', 'G', 'Y', 'V']\n"
     ]
    }
   ],
   "source": [
    "print(target_seq[0:42])\n",
    "print(pet_wt[0:42])\n",
    "seq_pos, mut_site, ori_site = mutation_location(target_seq, pet_wt)\n",
    "print(seq_pos, mut_site, ori_site)"
   ]
  },
  {
   "cell_type": "code",
   "execution_count": 67,
   "metadata": {},
   "outputs": [
    {
     "name": "stdout",
     "output_type": "stream",
     "text": [
      "6\n",
      "6\n",
      "6\n",
      "6\n",
      "6\n",
      "6\n",
      "6\n"
     ]
    }
   ],
   "source": [
    "seq_6_mut = reversion_mutation(target_seq, pet_wt)\n",
    "# print(seq_6_mut)\n",
    "for seq in seq_6_mut:\n",
    "    distance = Levenshtein.distance(pet_wt, seq)\n",
    "    print(distance)"
   ]
  },
  {
   "cell_type": "code",
   "execution_count": 68,
   "metadata": {},
   "outputs": [
    {
     "name": "stdout",
     "output_type": "stream",
     "text": [
      "42\n"
     ]
    }
   ],
   "source": [
    "seq_5_mut = []\n",
    "for seq in seq_6_mut:\n",
    "    seqs = reversion_mutation(seq, pet_wt)\n",
    "    seq_5_mut += seqs\n",
    "print(len(seq_5_mut))\n"
   ]
  },
  {
   "cell_type": "code",
   "execution_count": 69,
   "metadata": {},
   "outputs": [],
   "source": [
    "seq_5_mut = save_seqs(seq_6_mut, save_pos)"
   ]
  },
  {
   "cell_type": "code",
   "execution_count": 70,
   "metadata": {},
   "outputs": [],
   "source": [
    "seq_4_mut = save_seqs(seq_5_mut, save_pos)"
   ]
  },
  {
   "cell_type": "code",
   "execution_count": 72,
   "metadata": {},
   "outputs": [],
   "source": [
    "seq_3_mut = save_seqs(seq_4_mut, save_pos)"
   ]
  },
  {
   "cell_type": "code",
   "execution_count": 73,
   "metadata": {},
   "outputs": [],
   "source": [
    "seq_2_mut = save_seqs(seq_3_mut, save_pos)"
   ]
  },
  {
   "cell_type": "code",
   "execution_count": null,
   "metadata": {},
   "outputs": [],
   "source": [
    "seq_1_mut = save_seqs(seq_2_mut, save_pos)"
   ]
  }
 ],
 "metadata": {
  "interpreter": {
   "hash": "4879d5504799e6b66304a196936884d5b3e00df18b84df9b7898a8639fab141d"
  },
  "kernelspec": {
   "display_name": "Python 3.7.0 64-bit ('openfold_venv': conda)",
   "language": "python",
   "name": "python3"
  },
  "language_info": {
   "codemirror_mode": {
    "name": "ipython",
    "version": 3
   },
   "file_extension": ".py",
   "mimetype": "text/x-python",
   "name": "python",
   "nbconvert_exporter": "python",
   "pygments_lexer": "ipython3",
   "version": "3.7.0"
  },
  "orig_nbformat": 4
 },
 "nbformat": 4,
 "nbformat_minor": 2
}
